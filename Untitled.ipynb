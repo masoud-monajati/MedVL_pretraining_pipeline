{
 "cells": [
  {
   "cell_type": "code",
   "execution_count": 8,
   "id": "c1f5d036-d748-4ab1-8fa3-77b8f98cd966",
   "metadata": {},
   "outputs": [],
   "source": [
    "path =\"/home/monajati/main/med/blip/images/2.png\""
   ]
  },
  {
   "cell_type": "code",
   "execution_count": 11,
   "id": "083d7538-b8fa-49cb-be12-aa60e6b89c9c",
   "metadata": {},
   "outputs": [
    {
     "data": {
      "text/plain": [
       "'2'"
      ]
     },
     "execution_count": 11,
     "metadata": {},
     "output_type": "execute_result"
    }
   ],
   "source": [
    "path[36:37]"
   ]
  },
  {
   "cell_type": "code",
   "execution_count": 12,
   "id": "b007d024-2b48-4c91-971a-1923ac54f70c",
   "metadata": {},
   "outputs": [],
   "source": [
    "import json\n",
    "caption_path='/home/monajati/main/med/blip/med_data/medical_20k.json'\n",
    "h=json.load(open(caption_path,'r'))"
   ]
  },
  {
   "cell_type": "code",
   "execution_count": 13,
   "id": "89c72424-2583-4bc1-a045-cacd8785b99e",
   "metadata": {},
   "outputs": [
    {
     "data": {
      "text/plain": [
       "{'caption': '1.5T and 7.0T <b>brain</b> MRIs taken at the time of recurrence in a patient with small cell glioblastoma, 8 months after the initial surgery. T2WI and T1WI with contrast enhancement of 1.5T <b>brain</b> MRI (A, B, C) and 7.0T <b>brain</b> MRI (D, E, F) show a new enhancing mass lesion in the right frontal lobe. More enhanced anatomical details of the <b>brain</b> tumor with surrounding normal structures are provided by 7.0 T MRI. The anterior commissure (AC) and posterior commissure (PC) are marked with cross lines in the fused images of contrast-enhanced axial T1-WI of 1.5T (G and H) and 7.0T (I and J) MRI at the time of tumor recurrence, taken 8 months after initial <b>brain</b> surgery. Images of the 7.0T and 1.5T MPRAGE gadolinium-enhanced T1-weighted MRI are co-registered by using a software, OnDemand3D™ (CyberMed, Seoul). All images are realigned to midsagittal AC-PC line. In the co-registered images of the 7.0T MRI and 1.5T MRI, there is no significant difference in the location of the AC and PC between 1.5T (G and H) and 7.0T (I and J) <b>brain</b> MRI taken at the time of recurrence. Difference between locations of AC measured in 1.5T and 7.0T image sets was 0.66±0.13 mm and PC was 0.62±0.08 mm.',\n",
       " 'image': '/home/azureuser/BLIP/medical_data/medical_data_20k/0.png',\n",
       " 'image_id': '0'}"
      ]
     },
     "execution_count": 13,
     "metadata": {},
     "output_type": "execute_result"
    }
   ],
   "source": [
    "h[0]"
   ]
  },
  {
   "cell_type": "code",
   "execution_count": 14,
   "id": "de9deccf-37e0-42f6-87f2-e83d2d4aa552",
   "metadata": {},
   "outputs": [
    {
     "data": {
      "text/plain": [
       "{'caption': '<b>Brain</b> stem degeneration presents in <b>brain</b> MRI. Sagittal (a) and transversal (b) T2-weighted <b>brain</b> MRI indicates gliotic neurodegeneration in the medulla oblongata with predominant loss of pyramidal tracts. Magnification of inlay (c) uncovers pathologic <b>brain</b> stem formation reminiscent of ‘kissing swans’. d Transversal T1-weighted sectioning of the <b>brain</b> stem (arrow) after Gadolinium administration. No contrast enhancement is detectable. e Sagittal T2-weighted cervical spine MRI shows atrophy of the upper cervical spinal cord in addition to medulla oblongata atrophy. f Transversal T2-weighted <b>brain</b> MRI indicates putative periventricular rim-sign and global <b>brain</b> atrophy. g <b>Brain</b> MRI-angiography reveals normal intracranial vascular status without indication of stenosis',\n",
       " 'image': '/home/azureuser/BLIP/medical_data/medical_data_20k/1.png',\n",
       " 'image_id': '1'}"
      ]
     },
     "execution_count": 14,
     "metadata": {},
     "output_type": "execute_result"
    }
   ],
   "source": [
    "h[1]"
   ]
  },
  {
   "cell_type": "code",
   "execution_count": 15,
   "id": "62b21a4c-03da-42ef-b4a7-527afa2d9cd2",
   "metadata": {},
   "outputs": [
    {
     "data": {
      "text/plain": [
       "{'caption': '(a) Radiograph of leg bones with ankle joint (anteroposterior views) showing fractures in both legs (b and c) T2W magnetic resonance imaging of the <b>brain</b> (arrow) showing multiple well defined tiny hyperintense lesions suggestive of <b>cerebral</b> fat embolism (arrow)',\n",
       " 'image': '/home/azureuser/BLIP/medical_data/medical_data_20k/12.png',\n",
       " 'image_id': '12'}"
      ]
     },
     "execution_count": 15,
     "metadata": {},
     "output_type": "execute_result"
    }
   ],
   "source": [
    "h[12]"
   ]
  },
  {
   "cell_type": "code",
   "execution_count": 17,
   "id": "593a492d-ed61-4e10-8e78-7d244599ffe0",
   "metadata": {},
   "outputs": [
    {
     "data": {
      "text/plain": [
       "{'caption': 'DWI images of <b>brain</b> MRI in the present case. Increased signal intensity in the bilateral frontal, temporal, and parietal <b>cerebral</b> cortex with left dominancy, except for occipital lobe, was observed on admission with axial imaging (A-D). Note that the high-signal region spread to the occipital <b>cerebral</b> cortex at four years after the onset (E-H).',\n",
       " 'image': '/home/azureuser/BLIP/medical_data/medical_data_20k/34.png',\n",
       " 'image_id': '34'}"
      ]
     },
     "execution_count": 17,
     "metadata": {},
     "output_type": "execute_result"
    }
   ],
   "source": [
    "h[34]"
   ]
  },
  {
   "cell_type": "code",
   "execution_count": 18,
   "id": "841a512b-8450-47e9-ac49-13f283ff4ca2",
   "metadata": {},
   "outputs": [
    {
     "data": {
      "text/plain": [
       "{'caption': 'Coronal contrast-enhanced MRI <b>brain</b> images showing (a) initial 1.3\\xa0cm right parietal lobe metastasis without mass effect or <b>cerebral</b> edema; (b) enlarging 4\\xa0cm hemorrhagic right parietal mass with vasogenic edema 6\\xa0weeks post-gamma knife; (c) no evidence of <b>brain</b> metastases 12\\xa0years after resection',\n",
       " 'image': '/home/azureuser/BLIP/medical_data/medical_data_20k/55.png',\n",
       " 'image_id': '55'}"
      ]
     },
     "execution_count": 18,
     "metadata": {},
     "output_type": "execute_result"
    }
   ],
   "source": [
    "h[55]"
   ]
  },
  {
   "cell_type": "code",
   "execution_count": 19,
   "id": "ebdae6f8-0570-4257-866c-dc21903c0983",
   "metadata": {},
   "outputs": [
    {
     "data": {
      "text/plain": [
       "{'caption': '(a) <b>Brain</b> MRI before starting treatment: Multiple bilateral round lesions in both hemispheres with ring enhancement (b) <b>Brain</b> MRI after 6 months of treatment: A few hypersignal areas in right parietotemporal and left frontal lobes withoutcentral necrosis',\n",
       " 'image': '/home/azureuser/BLIP/medical_data/medical_data_20k/87.png',\n",
       " 'image_id': '87'}"
      ]
     },
     "execution_count": 19,
     "metadata": {},
     "output_type": "execute_result"
    }
   ],
   "source": [
    "h[87]"
   ]
  },
  {
   "cell_type": "code",
   "execution_count": 20,
   "id": "292c7ea4-6be1-4e2a-b3e6-a86cfa9fc54b",
   "metadata": {},
   "outputs": [
    {
     "data": {
      "text/plain": [
       "{'caption': 'Pre-SRS MRI of <b>brain</b> lesions (Dose planning on iPlan)Axial MRI with Gd enhancement on iPlan (BrainLAB, Tokyo) radiation therapy planning system (RTPS) workstation.\\xa0Nine small <b>brain</b> lesions (arrows) were treated by single session stereotactic radiosurgery (SRS).\\xa0Each lesion was targeted with four arcs by dynamic conformal arc (DCA). 100% dose=22 Gy (single fraction SRS), D95=100%dose.',\n",
       " 'image': '/home/azureuser/BLIP/medical_data/medical_data_20k/112.png',\n",
       " 'image_id': '112'}"
      ]
     },
     "execution_count": 20,
     "metadata": {},
     "output_type": "execute_result"
    }
   ],
   "source": [
    "h[112]"
   ]
  },
  {
   "cell_type": "code",
   "execution_count": 21,
   "id": "b9c4dcf0-bc66-45b0-95a8-1b8728bbc971",
   "metadata": {},
   "outputs": [
    {
     "data": {
      "text/plain": [
       "{'caption': 'Initial CT scans and angiographies of 53-year-old man that presented with sudden onset of severe headache.A. Noncontrast CT axial scan shows large amount of subarachnoid hemorrhage, especially in left sylvian fissure.B. Contrast-enhanced CT axial scan shows enhancing mass lesion around sphenoid ridge with combined bony destruction.C. Contrast-enhanced CT axial scan shows that mass is in contact with left middle <b>cerebral</b> artery.D. Digital subtraction angiography with selective injection of left internal carotid artery reveals no evidence of aneurysms or arteriovenous malformations.E. Three-dimensional rotational angiography demonstrates mild focal dilatation at proximal M2 portion of left middle <b>cerebral</b> artery.F. Axial T2-weighted MR image demonstrates hyperintense mass adjacent to left middle <b>cerebral</b> artery.G. Enhanced axial T1-weighted MR image demonstrates mass with mild enhancement.H. PET scan shows no definite uptake of mass lesion, suggesting benign or low-grade tumor.I. Intraoperative photomicrograph. Perforation at just distal portion of left middle <b>cerebral</b> artery bifurcation is noted.',\n",
       " 'image': '/home/azureuser/BLIP/medical_data/medical_data_20k/158.png',\n",
       " 'image_id': '158'}"
      ]
     },
     "execution_count": 21,
     "metadata": {},
     "output_type": "execute_result"
    }
   ],
   "source": [
    "h[158]"
   ]
  },
  {
   "cell_type": "code",
   "execution_count": 22,
   "id": "4988ec34-308c-4511-8f84-0059d9b41345",
   "metadata": {},
   "outputs": [
    {
     "data": {
      "text/plain": [
       "{'caption': '(A) One of T1-weighted images <b>brain</b> magnetic resonance imaging (MRI) showed multiple <b>brain</b> metastases. (B) <b>Brain</b> computed tomography showed the target area (the green-filled area) of whole-<b>brain</b> radiotherapy region.',\n",
       " 'image': '/home/azureuser/BLIP/medical_data/medical_data_20k/280.png',\n",
       " 'image_id': '280'}"
      ]
     },
     "execution_count": 22,
     "metadata": {},
     "output_type": "execute_result"
    }
   ],
   "source": [
    "h[280]"
   ]
  },
  {
   "cell_type": "code",
   "execution_count": 23,
   "id": "fd78dcd7-bcef-4449-883b-0fc6f5f94e32",
   "metadata": {},
   "outputs": [
    {
     "data": {
      "text/plain": [
       "{'caption': '(a) Three-dimensional computed tomography angiography showing an aneurysm (arrow) at the origin of an accessory middle <b>cerebral</b> artery (arrowheads). (b) Angiography demonstrating an aneurysm (arrow) at the junction of A1 of the anterior <b>cerebral</b> artery and accessory middle <b>cerebral</b> artery. The accessory middle <b>cerebral</b> artery (arrowheads) runs laterally along with the middle <b>cerebral</b> artery. (c) An intra-operative photograph showing an aneurysm (arrow) at the origin of the accessory middle <b>cerebral</b> artery (arrowheads). The aneurysm is projecting medially. (d) An intra-operative photograph showing that the aneurysm is clipped. (e) Follow-up angiography obtained 27 months after the operation, showing a small residual neck of the aneurysm',\n",
       " 'image': '/home/azureuser/BLIP/medical_data/medical_data_20k/2.png',\n",
       " 'image_id': '2'}"
      ]
     },
     "execution_count": 23,
     "metadata": {},
     "output_type": "execute_result"
    }
   ],
   "source": [
    "h[2]"
   ]
  },
  {
   "cell_type": "code",
   "execution_count": 34,
   "id": "ed28fd6f-b8ce-4327-8045-357d39ea1b69",
   "metadata": {},
   "outputs": [],
   "source": [
    "list_opt=  ['T_destination', '__annotations__', '__call__', '__class__', '__delattr__', '__dict__', '__dir__', '__doc__', '__eq__', '__format__', '__ge__', '__getattr__', '__getattribute__', '__gt__', '__hash__', '__init__', '__init_subclass__', '__le__', '__lt__', '__module__', '__ne__', '__new__', '__reduce__', '__reduce_ex__', '__repr__', '__setattr__', '__setstate__', '__sizeof__', '__str__', '__subclasshook__', '__weakref__', '_apply', '_auto_class', '_backward_compatibility_gradient_checkpointing', '_backward_hooks', '_buffers', '_call_impl', '_can_retrieve_inputs_from_name', '_convert_head_mask_to_5d', '_create_or_get_repo', '_expand_inputs_for_generation', '_forward_hooks', '_forward_pre_hooks', '_from_config', '_get_backward_hooks', '_get_decoder_start_token_id', '_get_logits_processor', '_get_logits_warper', '_get_name', '_get_repo_url_from_name', '_get_resized_embeddings', '_get_resized_lm_head', '_get_stopping_criteria', '_hook_rss_memory_post_forward', '_hook_rss_memory_pre_forward', '_init_weights', '_is_full_backward_hook', '_keys_to_ignore_on_load_missing', '_keys_to_ignore_on_load_unexpected', '_keys_to_ignore_on_save', '_load_from_state_dict', '_load_pretrained_model', '_load_pretrained_model_low_mem', '_load_state_dict_post_hooks', '_load_state_dict_pre_hooks', '_maybe_warn_non_full_backward_hook', '_merge_criteria_processor_list', '_modules', '_named_members', '_no_split_modules', '_non_persistent_buffers_set', '_parameters', '_prepare_attention_mask_for_generation', '_prepare_decoder_input_ids_for_generation', '_prepare_encoder_decoder_kwargs_for_generation', '_prepare_input_ids_for_generation', '_prepare_model_inputs', '_push_to_hub', '_register_load_state_dict_pre_hook', '_register_state_dict_hook', '_reorder_cache', '_replicate_for_data_parallel', '_resize_token_embeddings', '_save_to_state_dict', '_set_default_torch_dtype', '_set_gradient_checkpointing', '_slow_forward', '_state_dict_hooks', '_tie_encoder_decoder_weights', '_tie_or_clone_weights', '_update_model_kwargs_for_generation', '_version', 'add_memory_hooks', 'add_module', 'adjust_logits_during_generation', 'apply', 'base_model', 'base_model_prefix', 'beam_sample', 'beam_search', 'bfloat16', 'buffers', 'children', 'compute_transition_beam_scores', 'config', 'config_class', 'constrained_beam_search', 'cpu', 'create_extended_attention_mask_for_decoder', 'cuda', 'device', 'double', 'dtype', 'dummy_inputs', 'dump_patches', 'estimate_tokens', 'eval', 'extra_repr', 'float', 'floating_point_ops', 'forward', 'framework', 'from_pretrained', 'generate', 'get_buffer', 'get_decoder', 'get_extended_attention_mask', 'get_extra_state', 'get_head_mask', 'get_input_embeddings', 'get_output_embeddings', 'get_parameter', 'get_position_embeddings', 'get_submodule', 'gradient_checkpointing_disable', 'gradient_checkpointing_enable', 'greedy_search', 'group_beam_search', 'half', 'init_weights', 'invert_attention_mask', 'ipu', 'is_gradient_checkpointing', 'is_parallelizable', 'lm_head', 'load_state_dict', 'main_input_name', 'model', 'modules', 'name_or_path', 'named_buffers', 'named_children', 'named_modules', 'named_parameters', 'num_parameters', 'parameters', 'post_init', 'prepare_inputs_for_generation', 'prune_heads', 'push_to_hub', 'register_backward_hook', 'register_buffer', 'register_for_auto_class', 'register_forward_hook', 'register_forward_pre_hook', 'register_full_backward_hook', 'register_load_state_dict_post_hook', 'register_module', 'register_parameter', 'requires_grad_', 'reset_memory_hooks_state', 'resize_position_embeddings', 'resize_token_embeddings', 'retrieve_modules_from_names', 'sample', 'save_pretrained', 'set_decoder', 'set_extra_state', 'set_input_embeddings', 'set_output_embeddings', 'share_memory', 'state_dict', 'supports_gradient_checkpointing', 'tie_weights', 'to', 'to_empty', 'train', 'training', 'type', 'vocab_size', 'warnings_issued', 'xpu', 'zero_grad']"
   ]
  },
  {
   "cell_type": "code",
   "execution_count": 35,
   "id": "f48ae345-bec4-4c39-9377-fde4c0f4d9b3",
   "metadata": {},
   "outputs": [],
   "source": [
    "list_gpt = ['T_destination', '__annotations__', '__call__', '__class__', '__delattr__', '__dict__', '__dir__', '__doc__', '__eq__', '__format__', '__ge__', '__getattr__', '__getattribute__', '__gt__', '__hash__', '__init__', '__init_subclass__', '__le__', '__lt__', '__module__', '__ne__', '__new__', '__reduce__', '__reduce_ex__', '__repr__', '__setattr__', '__setstate__', '__sizeof__', '__str__', '__subclasshook__', '__weakref__', '_apply', '_backward_hooks', '_buffers', '_call_impl', '_convert_head_mask_to_5d', '_expand_inputs_for_generation', '_forward_hooks', '_forward_pre_hooks', '_get_backward_hooks', '_get_decoder_start_token_id', '_get_logits_processor', '_get_logits_warper', '_get_name', '_get_pad_token_id', '_get_resized_embeddings', '_get_resized_lm_head', '_get_stopping_criteria', '_hook_rss_memory_post_forward', '_hook_rss_memory_pre_forward', '_init_weights', '_is_full_backward_hook', '_keys_to_ignore_on_load_missing', '_keys_to_ignore_on_load_unexpected', '_keys_to_ignore_on_save', '_load_from_state_dict', '_load_state_dict_into_model', '_load_state_dict_post_hooks', '_load_state_dict_pre_hooks', '_maybe_warn_non_full_backward_hook', '_modules', '_named_members', '_non_persistent_buffers_set', '_parameters', '_prepare_attention_mask_for_generation', '_prepare_decoder_input_ids_for_generation', '_prepare_encoder_decoder_kwargs_for_generation', '_prepare_input_ids_for_generation', '_push_to_hub', '_register_load_state_dict_pre_hook', '_register_state_dict_hook', '_reorder_cache', '_replicate_for_data_parallel', '_resize_token_embeddings', '_save_to_state_dict', '_slow_forward', '_state_dict_hooks', '_tie_encoder_decoder_weights', '_tie_or_clone_weights', '_update_model_kwargs_for_generation', '_version', 'add_memory_hooks', 'add_module', 'adjust_logits_during_generation', 'apply', 'base_model', 'base_model_prefix', 'beam_sample', 'beam_search', 'bfloat16', 'buffers', 'children', 'config', 'config_class', 'cpu', 'cuda', 'deparallelize', 'device', 'device_map', 'double', 'dtype', 'dummy_inputs', 'dump_patches', 'estimate_tokens', 'eval', 'extra_repr', 'float', 'floating_point_ops', 'forward', 'from_pretrained', 'generate', 'get_buffer', 'get_extended_attention_mask', 'get_extra_state', 'get_head_mask', 'get_input_embeddings', 'get_output_embeddings', 'get_parameter', 'get_submodule', 'greedy_search', 'group_beam_search', 'half', 'init_weights', 'invert_attention_mask', 'ipu', 'is_parallelizable', 'lm_head', 'load_state_dict', 'load_tf_weights', 'model_parallel', 'modules', 'name_or_path', 'named_buffers', 'named_children', 'named_modules', 'named_parameters', 'num_parameters', 'parallelize', 'parameters', 'prepare_inputs_for_generation', 'prune_heads', 'push_to_hub', 'register_backward_hook', 'register_buffer', 'register_forward_hook', 'register_forward_pre_hook', 'register_full_backward_hook', 'register_load_state_dict_post_hook', 'register_module', 'register_parameter', 'requires_grad_', 'reset_memory_hooks_state', 'resize_token_embeddings', 'retrieve_modules_from_names', 'sample', 'save_pretrained', 'set_extra_state', 'set_input_embeddings', 'set_output_embeddings', 'share_memory', 'state_dict', 'tie_weights', 'to', 'to_empty', 'train', 'training', 'transformer', 'type', 'vocab_size', 'xpu', 'zero_grad']"
   ]
  },
  {
   "cell_type": "code",
   "execution_count": 36,
   "id": "15c80602-c84f-4aa3-99e1-f0fd3d94db1a",
   "metadata": {},
   "outputs": [
    {
     "name": "stdout",
     "output_type": "stream",
     "text": [
      "_get_pad_token_id\n",
      "_load_state_dict_into_model\n",
      "deparallelize\n",
      "device_map\n",
      "load_tf_weights\n",
      "model_parallel\n",
      "parallelize\n",
      "transformer\n"
     ]
    }
   ],
   "source": [
    "for i in range(len(list_gpt)):\n",
    "    if list_gpt[i] not in list_opt:\n",
    "        print(list_gpt[i])"
   ]
  },
  {
   "cell_type": "code",
   "execution_count": 37,
   "id": "46c90052-2fe3-46a4-9521-deae4a6fdebe",
   "metadata": {},
   "outputs": [
    {
     "name": "stdout",
     "output_type": "stream",
     "text": [
      "_auto_class\n",
      "_backward_compatibility_gradient_checkpointing\n",
      "_can_retrieve_inputs_from_name\n",
      "_create_or_get_repo\n",
      "_from_config\n",
      "_get_repo_url_from_name\n",
      "_load_pretrained_model\n",
      "_load_pretrained_model_low_mem\n",
      "_merge_criteria_processor_list\n",
      "_no_split_modules\n",
      "_prepare_model_inputs\n",
      "_set_default_torch_dtype\n",
      "_set_gradient_checkpointing\n",
      "compute_transition_beam_scores\n",
      "constrained_beam_search\n",
      "create_extended_attention_mask_for_decoder\n",
      "framework\n",
      "get_decoder\n",
      "get_position_embeddings\n",
      "gradient_checkpointing_disable\n",
      "gradient_checkpointing_enable\n",
      "is_gradient_checkpointing\n",
      "main_input_name\n",
      "model\n",
      "post_init\n",
      "register_for_auto_class\n",
      "resize_position_embeddings\n",
      "set_decoder\n",
      "supports_gradient_checkpointing\n",
      "warnings_issued\n"
     ]
    }
   ],
   "source": [
    "for i in range(len(list_opt)):\n",
    "    if list_opt[i] not in list_gpt:\n",
    "        print(list_opt[i])"
   ]
  },
  {
   "cell_type": "code",
   "execution_count": 38,
   "id": "fbf10d1c-9ebf-41e3-ad6a-f37ad6b496ba",
   "metadata": {},
   "outputs": [],
   "source": [
    "list_opt_model= ['T_destination', '__annotations__', '__call__', '__class__', '__delattr__', '__dict__', '__dir__', '__doc__', '__eq__', '__format__', '__ge__', '__getattr__', '__getattribute__', '__gt__', '__hash__', '__init__', '__init_subclass__', '__le__', '__lt__', '__module__', '__ne__', '__new__', '__reduce__', '__reduce_ex__', '__repr__', '__setattr__', '__setstate__', '__sizeof__', '__str__', '__subclasshook__', '__weakref__', '_apply', '_auto_class', '_backward_compatibility_gradient_checkpointing', '_backward_hooks', '_buffers', '_call_impl', '_can_retrieve_inputs_from_name', '_convert_head_mask_to_5d', '_create_or_get_repo', '_expand_inputs_for_generation', '_forward_hooks', '_forward_pre_hooks', '_from_config', '_get_backward_hooks', '_get_decoder_start_token_id', '_get_logits_processor', '_get_logits_warper', '_get_name', '_get_repo_url_from_name', '_get_resized_embeddings', '_get_resized_lm_head', '_get_stopping_criteria', '_hook_rss_memory_post_forward', '_hook_rss_memory_pre_forward', '_init_weights', '_is_full_backward_hook', '_keys_to_ignore_on_load_missing', '_keys_to_ignore_on_load_unexpected', '_keys_to_ignore_on_save', '_load_from_state_dict', '_load_pretrained_model', '_load_pretrained_model_low_mem', '_load_state_dict_post_hooks', '_load_state_dict_pre_hooks', '_maybe_warn_non_full_backward_hook', '_merge_criteria_processor_list', '_modules', '_named_members', '_no_split_modules', '_non_persistent_buffers_set', '_parameters', '_prepare_attention_mask_for_generation', '_prepare_decoder_input_ids_for_generation', '_prepare_encoder_decoder_kwargs_for_generation', '_prepare_input_ids_for_generation', '_prepare_model_inputs', '_push_to_hub', '_register_load_state_dict_pre_hook', '_register_state_dict_hook', '_reorder_cache', '_replicate_for_data_parallel', '_resize_token_embeddings', '_save_to_state_dict', '_set_default_torch_dtype', '_set_gradient_checkpointing', '_slow_forward', '_state_dict_hooks', '_tie_encoder_decoder_weights', '_tie_or_clone_weights', '_update_model_kwargs_for_generation', '_version', 'add_memory_hooks', 'add_module', 'adjust_logits_during_generation', 'apply', 'base_model', 'base_model_prefix', 'beam_sample', 'beam_search', 'bfloat16', 'buffers', 'children', 'compute_transition_beam_scores', 'config', 'config_class', 'constrained_beam_search', 'cpu', 'create_extended_attention_mask_for_decoder', 'cuda', 'decoder', 'device', 'double', 'dtype', 'dummy_inputs', 'dump_patches', 'estimate_tokens', 'eval', 'extra_repr', 'float', 'floating_point_ops', 'forward', 'framework', 'from_pretrained', 'generate', 'get_buffer', 'get_decoder', 'get_extended_attention_mask', 'get_extra_state', 'get_head_mask', 'get_input_embeddings', 'get_output_embeddings', 'get_parameter', 'get_position_embeddings', 'get_submodule', 'gradient_checkpointing_disable', 'gradient_checkpointing_enable', 'greedy_search', 'group_beam_search', 'half', 'init_weights', 'invert_attention_mask', 'ipu', 'is_gradient_checkpointing', 'is_parallelizable', 'load_state_dict', 'main_input_name', 'modules', 'name_or_path', 'named_buffers', 'named_children', 'named_modules', 'named_parameters', 'num_parameters', 'parameters', 'post_init', 'prepare_inputs_for_generation', 'prune_heads', 'push_to_hub', 'register_backward_hook', 'register_buffer', 'register_for_auto_class', 'register_forward_hook', 'register_forward_pre_hook', 'register_full_backward_hook', 'register_load_state_dict_post_hook', 'register_module', 'register_parameter', 'requires_grad_', 'reset_memory_hooks_state', 'resize_position_embeddings', 'resize_token_embeddings', 'retrieve_modules_from_names', 'sample', 'save_pretrained', 'set_extra_state', 'set_input_embeddings', 'share_memory', 'state_dict', 'supports_gradient_checkpointing', 'tie_weights', 'to', 'to_empty', 'train', 'training', 'type', 'warnings_issued', 'xpu', 'zero_grad']"
   ]
  },
  {
   "cell_type": "code",
   "execution_count": 40,
   "id": "55918a5d-ff93-4a53-9d8e-474913d38a90",
   "metadata": {},
   "outputs": [],
   "source": [
    "list_opt_model=['T_destination', '__annotations__', '__call__', '__class__', '__delattr__', '__dict__', '__dir__', '__doc__', '__eq__', '__format__', '__ge__', '__getattr__', '__getattribute__', '__gt__', '__hash__', '__init__', '__init_subclass__', '__le__', '__lt__', '__module__', '__ne__', '__new__', '__reduce__', '__reduce_ex__', '__repr__', '__setattr__', '__setstate__', '__sizeof__', '__str__', '__subclasshook__', '__weakref__', '_apply', '_auto_class', '_backward_compatibility_gradient_checkpointing', '_backward_hooks', '_buffers', '_call_impl', '_can_retrieve_inputs_from_name', '_convert_head_mask_to_5d', '_create_or_get_repo', '_expand_inputs_for_generation', '_forward_hooks', '_forward_pre_hooks', '_from_config', '_get_backward_hooks', '_get_decoder_start_token_id', '_get_logits_processor', '_get_logits_warper', '_get_name', '_get_repo_url_from_name', '_get_resized_embeddings', '_get_resized_lm_head', '_get_stopping_criteria', '_hook_rss_memory_post_forward', '_hook_rss_memory_pre_forward', '_init_weights', '_is_full_backward_hook', '_keys_to_ignore_on_load_missing', '_keys_to_ignore_on_load_unexpected', '_keys_to_ignore_on_save', '_load_from_state_dict', '_load_pretrained_model', '_load_pretrained_model_low_mem', '_load_state_dict_post_hooks', '_load_state_dict_pre_hooks', '_maybe_warn_non_full_backward_hook', '_merge_criteria_processor_list', '_modules', '_named_members', '_no_split_modules', '_non_persistent_buffers_set', '_parameters', '_prepare_attention_mask_for_generation', '_prepare_decoder_attention_mask', '_prepare_decoder_input_ids_for_generation', '_prepare_encoder_decoder_kwargs_for_generation', '_prepare_input_ids_for_generation', '_prepare_model_inputs', '_push_to_hub', '_register_load_state_dict_pre_hook', '_register_state_dict_hook', '_reorder_cache', '_replicate_for_data_parallel', '_resize_token_embeddings', '_save_to_state_dict', '_set_default_torch_dtype', '_set_gradient_checkpointing', '_slow_forward', '_state_dict_hooks', '_tie_encoder_decoder_weights', '_tie_or_clone_weights', '_update_model_kwargs_for_generation', '_version', 'add_memory_hooks', 'add_module', 'adjust_logits_during_generation', 'apply', 'base_model', 'base_model_prefix', 'beam_sample', 'beam_search', 'bfloat16', 'buffers', 'children', 'compute_transition_beam_scores', 'config', 'config_class', 'constrained_beam_search', 'cpu', 'create_extended_attention_mask_for_decoder', 'cuda', 'device', 'double', 'dropout', 'dtype', 'dummy_inputs', 'dump_patches', 'embed_positions', 'embed_tokens', 'estimate_tokens', 'eval', 'extra_repr', 'final_layer_norm', 'float', 'floating_point_ops', 'forward', 'framework', 'from_pretrained', 'generate', 'get_buffer', 'get_extended_attention_mask', 'get_extra_state', 'get_head_mask', 'get_input_embeddings', 'get_output_embeddings', 'get_parameter', 'get_position_embeddings', 'get_submodule', 'gradient_checkpointing', 'gradient_checkpointing_disable', 'gradient_checkpointing_enable', 'greedy_search', 'group_beam_search', 'half', 'init_weights', 'invert_attention_mask', 'ipu', 'is_gradient_checkpointing', 'is_parallelizable', 'layerdrop', 'layers', 'load_state_dict', 'main_input_name', 'max_target_positions', 'modules', 'name_or_path', 'named_buffers', 'named_children', 'named_modules', 'named_parameters', 'num_parameters', 'padding_idx', 'parameters', 'post_init', 'prepare_inputs_for_generation', 'project_in', 'project_out', 'prune_heads', 'push_to_hub', 'register_backward_hook', 'register_buffer', 'register_for_auto_class', 'register_forward_hook', 'register_forward_pre_hook', 'register_full_backward_hook', 'register_load_state_dict_post_hook', 'register_module', 'register_parameter', 'requires_grad_', 'reset_memory_hooks_state', 'resize_position_embeddings', 'resize_token_embeddings', 'retrieve_modules_from_names', 'sample', 'save_pretrained', 'set_extra_state', 'set_input_embeddings', 'share_memory', 'state_dict', 'supports_gradient_checkpointing', 'tie_weights', 'to', 'to_empty', 'train', 'training', 'type', 'vocab_size', 'warnings_issued', 'xpu', 'zero_grad']"
   ]
  },
  {
   "cell_type": "code",
   "execution_count": 41,
   "id": "3ed1bf52-a7c0-47a5-a69c-8e6ee45782c4",
   "metadata": {},
   "outputs": [
    {
     "name": "stdout",
     "output_type": "stream",
     "text": [
      "_auto_class\n",
      "_backward_compatibility_gradient_checkpointing\n",
      "_can_retrieve_inputs_from_name\n",
      "_create_or_get_repo\n",
      "_from_config\n",
      "_get_repo_url_from_name\n",
      "_load_pretrained_model\n",
      "_load_pretrained_model_low_mem\n",
      "_merge_criteria_processor_list\n",
      "_no_split_modules\n",
      "_prepare_decoder_attention_mask\n",
      "_prepare_model_inputs\n",
      "_set_default_torch_dtype\n",
      "_set_gradient_checkpointing\n",
      "compute_transition_beam_scores\n",
      "constrained_beam_search\n",
      "create_extended_attention_mask_for_decoder\n",
      "dropout\n",
      "embed_positions\n",
      "embed_tokens\n",
      "final_layer_norm\n",
      "framework\n",
      "get_position_embeddings\n",
      "gradient_checkpointing\n",
      "gradient_checkpointing_disable\n",
      "gradient_checkpointing_enable\n",
      "is_gradient_checkpointing\n",
      "layerdrop\n",
      "layers\n",
      "main_input_name\n",
      "max_target_positions\n",
      "padding_idx\n",
      "post_init\n",
      "project_in\n",
      "project_out\n",
      "register_for_auto_class\n",
      "resize_position_embeddings\n",
      "supports_gradient_checkpointing\n",
      "warnings_issued\n"
     ]
    }
   ],
   "source": [
    "for i in range(len(list_opt_model)):\n",
    "    if list_opt_model[i] not in list_gpt:\n",
    "        print(list_opt_model[i])"
   ]
  },
  {
   "cell_type": "code",
   "execution_count": null,
   "id": "4d914a68-38b3-47f9-b228-5d499ce38907",
   "metadata": {},
   "outputs": [],
   "source": []
  }
 ],
 "metadata": {
  "kernelspec": {
   "display_name": "Python 3 (ipykernel)",
   "language": "python",
   "name": "python3"
  },
  "language_info": {
   "codemirror_mode": {
    "name": "ipython",
    "version": 3
   },
   "file_extension": ".py",
   "mimetype": "text/x-python",
   "name": "python",
   "nbconvert_exporter": "python",
   "pygments_lexer": "ipython3",
   "version": "3.7.13"
  }
 },
 "nbformat": 4,
 "nbformat_minor": 5
}
